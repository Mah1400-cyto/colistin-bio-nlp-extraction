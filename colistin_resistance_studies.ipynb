{
  "nbformat": 4,
  "nbformat_minor": 0,
  "metadata": {
    "colab": {
      "provenance": []
    },
    "kernelspec": {
      "name": "python3",
      "display_name": "Python 3"
    },
    "language_info": {
      "name": "python"
    }
  },
  "cells": [
    {
      "cell_type": "code",
      "execution_count": 1,
      "metadata": {
        "colab": {
          "base_uri": "https://localhost:8080/",
          "height": 17
        },
        "id": "Cj8-fG9tqpLW",
        "outputId": "d374e54a-cbac-46ed-d371-63de8618279f"
      },
      "outputs": [
        {
          "output_type": "display_data",
          "data": {
            "text/plain": [
              "<IPython.core.display.Javascript object>"
            ],
            "application/javascript": [
              "\n",
              "    async function download(id, filename, size) {\n",
              "      if (!google.colab.kernel.accessAllowed) {\n",
              "        return;\n",
              "      }\n",
              "      const div = document.createElement('div');\n",
              "      const label = document.createElement('label');\n",
              "      label.textContent = `Downloading \"${filename}\": `;\n",
              "      div.appendChild(label);\n",
              "      const progress = document.createElement('progress');\n",
              "      progress.max = size;\n",
              "      div.appendChild(progress);\n",
              "      document.body.appendChild(div);\n",
              "\n",
              "      const buffers = [];\n",
              "      let downloaded = 0;\n",
              "\n",
              "      const channel = await google.colab.kernel.comms.open(id);\n",
              "      // Send a message to notify the kernel that we're ready.\n",
              "      channel.send({})\n",
              "\n",
              "      for await (const message of channel.messages) {\n",
              "        // Send a message to notify the kernel that we're ready.\n",
              "        channel.send({})\n",
              "        if (message.buffers) {\n",
              "          for (const buffer of message.buffers) {\n",
              "            buffers.push(buffer);\n",
              "            downloaded += buffer.byteLength;\n",
              "            progress.value = downloaded;\n",
              "          }\n",
              "        }\n",
              "      }\n",
              "      const blob = new Blob(buffers, {type: 'application/binary'});\n",
              "      const a = document.createElement('a');\n",
              "      a.href = window.URL.createObjectURL(blob);\n",
              "      a.download = filename;\n",
              "      div.appendChild(a);\n",
              "      a.click();\n",
              "      div.remove();\n",
              "    }\n",
              "  "
            ]
          },
          "metadata": {}
        },
        {
          "output_type": "display_data",
          "data": {
            "text/plain": [
              "<IPython.core.display.Javascript object>"
            ],
            "application/javascript": [
              "download(\"download_b98383b4-363e-452d-abc9-f75def2583ef\", \"colistin_resistance_studies.xlsx\", 5494)"
            ]
          },
          "metadata": {}
        },
        {
          "output_type": "display_data",
          "data": {
            "text/plain": [
              "<IPython.core.display.Javascript object>"
            ],
            "application/javascript": [
              "\n",
              "    async function download(id, filename, size) {\n",
              "      if (!google.colab.kernel.accessAllowed) {\n",
              "        return;\n",
              "      }\n",
              "      const div = document.createElement('div');\n",
              "      const label = document.createElement('label');\n",
              "      label.textContent = `Downloading \"${filename}\": `;\n",
              "      div.appendChild(label);\n",
              "      const progress = document.createElement('progress');\n",
              "      progress.max = size;\n",
              "      div.appendChild(progress);\n",
              "      document.body.appendChild(div);\n",
              "\n",
              "      const buffers = [];\n",
              "      let downloaded = 0;\n",
              "\n",
              "      const channel = await google.colab.kernel.comms.open(id);\n",
              "      // Send a message to notify the kernel that we're ready.\n",
              "      channel.send({})\n",
              "\n",
              "      for await (const message of channel.messages) {\n",
              "        // Send a message to notify the kernel that we're ready.\n",
              "        channel.send({})\n",
              "        if (message.buffers) {\n",
              "          for (const buffer of message.buffers) {\n",
              "            buffers.push(buffer);\n",
              "            downloaded += buffer.byteLength;\n",
              "            progress.value = downloaded;\n",
              "          }\n",
              "        }\n",
              "      }\n",
              "      const blob = new Blob(buffers, {type: 'application/binary'});\n",
              "      const a = document.createElement('a');\n",
              "      a.href = window.URL.createObjectURL(blob);\n",
              "      a.download = filename;\n",
              "      div.appendChild(a);\n",
              "      a.click();\n",
              "      div.remove();\n",
              "    }\n",
              "  "
            ]
          },
          "metadata": {}
        },
        {
          "output_type": "display_data",
          "data": {
            "text/plain": [
              "<IPython.core.display.Javascript object>"
            ],
            "application/javascript": [
              "download(\"download_d3b82e32-052b-43ca-a331-ecea0a97c5ba\", \"colistin_resistance_studies.csv\", 987)"
            ]
          },
          "metadata": {}
        }
      ],
      "source": [
        "import pandas as pd\n",
        "from google.colab import files\n",
        "\n",
        "data = {\n",
        "    'Article Number': list(range(1, 11)),\n",
        "    'Article Title': [\n",
        "        'Resistance Mechanisms of Klebsiella pneumoniae to Colistin',\n",
        "        'Colistin Resistance in Gram-negative Bacteria',\n",
        "        'Molecular Basis of Colistin Resistance',\n",
        "        'Epidemiology of Colistin-resistant Bacteria',\n",
        "        'Therapeutic Strategies against Colistin-resistant Pathogens',\n",
        "        'Colistin Resistance Genes in Clinical Isolates',\n",
        "        'New Approaches to Overcome Colistin Resistance',\n",
        "        'Genetic Determinants of Colistin Resistance',\n",
        "        'Surveillance of Colistin Resistance in Hospitals',\n",
        "        'Impact of Colistin Resistance on Treatment Outcomes'\n",
        "    ],\n",
        "    'Bacteria': ['Klebsiella pneumoniae']*10,\n",
        "    'Resistance Genes': [\n",
        "        'mcr-1, mgrB',\n",
        "        'mcr-1',\n",
        "        'pmrA, pmrB',\n",
        "        'mcr-1, pmrA',\n",
        "        'mgrB',\n",
        "        'mcr-1, pmrB',\n",
        "        'pmrA',\n",
        "        'mgrB, pmrB',\n",
        "        'mcr-1',\n",
        "        'pmrA, mgrB'\n",
        "    ],\n",
        "    'Antibiotic': ['Colistin']*10\n",
        "}\n",
        "\n",
        "df = pd.DataFrame(data)\n",
        "\n",
        "excel_filename = 'colistin_resistance_studies.xlsx'\n",
        "csv_filename = 'colistin_resistance_studies.csv'\n",
        "\n",
        "df.to_excel(excel_filename, index=False)\n",
        "df.to_csv(csv_filename, index=False)\n",
        "\n",
        "files.download(excel_filename)\n",
        "files.download(csv_filename)"
      ]
    }
  ]
}